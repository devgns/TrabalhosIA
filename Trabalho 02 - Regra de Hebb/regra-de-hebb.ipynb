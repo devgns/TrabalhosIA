{
 "cells": [
  {
   "cell_type": "code",
   "execution_count": 1,
   "id": "d8a792ec",
   "metadata": {},
   "outputs": [],
   "source": [
    "import tkinter as tk\n",
    "import pickle\n",
    "import re"
   ]
  },
  {
   "cell_type": "markdown",
   "id": "7fba1d80",
   "metadata": {},
   "source": [
    "# 0 - Recebe inputs do usuário (formação da letra)"
   ]
  },
  {
   "cell_type": "code",
   "execution_count": 12,
   "id": "e24bd2b6",
   "metadata": {},
   "outputs": [
    {
     "name": "stdout",
     "output_type": "stream",
     "text": [
      "ButtonId:[], Position: 0\n",
      "ButtonId:['17'], Position: 16\n",
      "ButtonId:['25'], Position: 24\n",
      "ButtonId:['41'], Position: 40\n",
      "ButtonId:['49'], Position: 48\n",
      "ButtonId:['7'], Position: 6\n",
      "ButtonId:['13'], Position: 12\n",
      "ButtonId:['31'], Position: 30\n",
      "ButtonId:['37'], Position: 36\n",
      "ButtonId:['43'], Position: 42\n"
     ]
    }
   ],
   "source": [
    "class LetraApp:\n",
    "    def __init__(self):\n",
    "        self.board = [-1] * 49\n",
    "\n",
    "        self.window = tk.Tk()\n",
    "        self.window.title(\"Simulador de Letra\")\n",
    "\n",
    "        # Define a resolução da janela\n",
    "        self.window.geometry(\"600x600\")\n",
    "\n",
    "        # Cria um canvas 6x6\n",
    "        self.canvas = tk.Canvas(self.window, width=700, height=700)\n",
    "\n",
    "        # Evita redimensionamento automático\n",
    "        self.canvas.pack_propagate(False)\n",
    "        self.canvas.pack()\n",
    "\n",
    "        # Define o tamanho das colunas e linhas\n",
    "        for i in range(7):\n",
    "            self.canvas.grid_columnconfigure(i, weight=1)\n",
    "            self.canvas.grid_rowconfigure(i, weight=1)\n",
    "\n",
    "        # Cria botões para cada quadrado\n",
    "        for i in range(7):\n",
    "            for j in range(7):\n",
    "                button = tk.Button(self.canvas, text=\"\", height=\"100\", width=\"600\")\n",
    "                button.grid(row=i, column=j, sticky=\"nsew\")\n",
    "                button.bind(\"<Button-1>\", self.on_button_press)\n",
    "                button.config(bg=\"white\")\n",
    "\n",
    "        # Cria um rótulo para exibir a letra simulada\n",
    "        self.label = tk.Label(self.window, text=\"\")\n",
    "        self.label.pack()\n",
    "\n",
    "        # Define a cor original do botão\n",
    "        self.default_bg = \"white\"\n",
    "        # Vincula a função 'on_close' ao evento de fechamento da janela\n",
    "        self.window.protocol(\"WM_DELETE_WINDOW\", self.on_close)\n",
    "\n",
    "    def on_button_press(self, event):\n",
    "        # Obtém a posição do botão na grade\n",
    "        i = event.y // 100\n",
    "        j = event.x // 100\n",
    "\n",
    "        # Extrai a parte numérica do nome do widget\n",
    "        button_id = re.findall(r'\\d+', event.widget.winfo_name())\n",
    "        \n",
    "\n",
    "        # Se a lista não estiver vazia, converte o primeiro elemento para inteiro\n",
    "        if button_id:\n",
    "            position = int(button_id[0]) -1\n",
    "        else:\n",
    "            position = 0\n",
    "            \n",
    "        print(f\"ButtonId:{button_id}, Position: {position}\")\n",
    "\n",
    "\n",
    "        # Atualiza a cor do botão\n",
    "        if event.widget.cget(\"bg\") == \"red\":\n",
    "            event.widget.config(bg=self.default_bg)\n",
    "        else:\n",
    "            event.widget.config(bg=\"red\")\n",
    "            \n",
    "        # Atualiza o valor no array\n",
    "        if event.widget.cget(\"bg\") == \"red\":\n",
    "            self.board[position] = 1\n",
    "        else:\n",
    "            self.board[position] = -1\n",
    "\n",
    "        # Atualiza o rótulo com a letra simulada\n",
    "        self.label.config(text=\"Letra simulada\")\n",
    "\n",
    "    def on_close(self):\n",
    "        # Salva o array para um arquivo (Para conseguir rodar o programa, rode este bloco, crie a letra 'X'\n",
    "        #e salve com o nome de arquivo 'letraX'. Execute novamente e crie a letra 'Z', salve o arquivo como 'LetraZ'.\n",
    "        #Por último, faça o desenho da letra desejada para testar a IA e coloque o nome do arquivo como 'teste')\n",
    "        with open(\"teste.pkl\", \"wb\") as f:\n",
    "            pickle.dump(self.board, f)\n",
    "\n",
    "        # Fecha a janela\n",
    "        self.window.destroy()\n",
    "\n",
    "\n",
    "app = LetraApp()\n",
    "app.window.mainloop()"
   ]
  },
  {
   "cell_type": "markdown",
   "id": "c333e8bc",
   "metadata": {},
   "source": [
    "# 2 - Encontrando os pesos (treinamento)"
   ]
  },
  {
   "cell_type": "code",
   "execution_count": 10,
   "id": "9a487786",
   "metadata": {},
   "outputs": [
    {
     "name": "stdout",
     "output_type": "stream",
     "text": [
      "[[1, -1, -1, -1, -1, -1, -1, -1, 1, -1, -1, -1, 1, -1, -1, -1, 1, -1, 1, -1, -1, -1, -1, -1, 1, -1, -1, -1, -1, -1, 1, -1, -1, -1, -1, -1, -1, -1, -1, -1, 1, -1, 1, -1, -1, -1, -1, -1, 1], [1, 1, -1, 1, 1, 1, 1, 1, -1, -1, -1, -1, 1, -1, -1, -1, -1, -1, -1, -1, -1, -1, -1, -1, 1, -1, -1, -1, -1, -1, 1, -1, -1, -1, -1, -1, 1, -1, -1, -1, -1, 1, 1, -1, 1, 1, 1, -1, 1]]\n",
      "[0, -2, 0, -2, -2, -2, -2, -2, 2, 0, 0, 0, 0, 0, 0, 0, 2, 0, 2, 0, 0, 0, 0, 0, 0, 0, 0, 0, 0, 0, 0, 0, 0, 0, 0, 0, -2, 0, 0, 0, 2, -2, 0, 0, -2, -2, -2, 0, 0]\n"
     ]
    }
   ],
   "source": [
    "# Carregando o arquivo contendo os valores de cada posição da matriz do botões \n",
    "with open(\"letraX.pkl\", \"rb\") as letterInput:\n",
    "    inputX = pickle.load(letterInput)\n",
    "with open(\"letraZ.pkl\", \"rb\") as letterInput:\n",
    "    inputZ = pickle.load(letterInput)\n",
    "#print(inputX)\n",
    "#print(inputZ)\n",
    "\n",
    "matrizEntrada = [inputX, inputZ]\n",
    "print(matrizEntrada)\n",
    "\n",
    "# Saida esperada -> 1 para X e -1 para Z\n",
    "saidaEsperada = [1 , -1]\n",
    "w = [0] * 49\n",
    "deltaW = [0] * 49\n",
    "b = 0\n",
    "deltaB = 0\n",
    "\n",
    "\n",
    "for linha in range(2):\n",
    "    for coluna in range(49):\n",
    "        deltaW[coluna] = matrizEntrada[linha][coluna] * saidaEsperada[linha]\n",
    "        #print(f\"linha: {linha}, coluna : {coluna}, deltaW: {deltaW[coluna]}, matriz : {matrizEntrada[linha][coluna]}\")\n",
    "        w[coluna] = w[coluna] + deltaW[coluna]\n",
    "        \n",
    "    deltaB = saidaEsperada[linha]\n",
    "    b += deltaB\n",
    "        \n",
    "    \n",
    "print(w)\n"
   ]
  },
  {
   "cell_type": "markdown",
   "id": "388ca3b1",
   "metadata": {},
   "source": [
    "# 3 - Teste o resultado (rode o bloco 01 novamente)"
   ]
  },
  {
   "cell_type": "markdown",
   "id": "e3946278",
   "metadata": {},
   "source": [
    "Obs.: Ao executar o bloco 01 novamente, salve o arquivo da matriz com o nome \"teste\""
   ]
  },
  {
   "cell_type": "code",
   "execution_count": 13,
   "id": "e9e81b27",
   "metadata": {},
   "outputs": [
    {
     "name": "stdout",
     "output_type": "stream",
     "text": [
      "[1, -1, -1, -1, -1, -1, 1, -1, -1, -1, -1, -1, 1, -1, -1, -1, 1, -1, -1, -1, -1, -1, -1, -1, 1, -1, -1, -1, -1, -1, 1, -1, -1, -1, -1, -1, 1, -1, -1, -1, 1, -1, 1, -1, -1, -1, -1, -1, 1]\n",
      "14\n",
      "Resultado -> Se aproxima da letra \"X\"\n"
     ]
    }
   ],
   "source": [
    "with open(\"teste.pkl\", \"rb\") as letterInput:\n",
    "    letraTeste = pickle.load(letterInput)\n",
    " \n",
    "print(letraTeste)\n",
    "deltaTeste = 0;\n",
    "for coluna in range(len(letraTeste)):\n",
    "    deltaTeste += letraTeste[coluna] * w[coluna]\n",
    "    #print(f\"coluna : {coluna}, letraTeste : {letraTeste[coluna]}, w : {w[coluna]} , deltaTeste: {deltaTeste}\")\n",
    "deltaTeste += b\n",
    "print(deltaTeste)\n",
    "\n",
    "if(deltaTeste > 0):\n",
    "    print('Resultado -> Se aproxima da letra \"X\"')\n",
    "else:\n",
    "    print('Resultado -> Se aproxima da letra \"Z\"')\n"
   ]
  }
 ],
 "metadata": {
  "kernelspec": {
   "display_name": "Python 3",
   "language": "python",
   "name": "python3"
  },
  "language_info": {
   "codemirror_mode": {
    "name": "ipython",
    "version": 3
   },
   "file_extension": ".py",
   "mimetype": "text/x-python",
   "name": "python",
   "nbconvert_exporter": "python",
   "pygments_lexer": "ipython3",
   "version": "3.8.8"
  }
 },
 "nbformat": 4,
 "nbformat_minor": 5
}
