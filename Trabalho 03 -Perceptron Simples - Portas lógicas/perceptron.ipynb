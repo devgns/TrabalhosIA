{
 "cells": [
  {
   "cell_type": "markdown",
   "id": "954402d6",
   "metadata": {},
   "source": [
    "### Valores de entrada"
   ]
  },
  {
   "cell_type": "code",
   "execution_count": 1,
   "id": "cbd7001d",
   "metadata": {},
   "outputs": [],
   "source": [
    "x1 = [0, 0, 1, 1]\n",
    "x2 = [0, 1, 0, 1]"
   ]
  },
  {
   "cell_type": "markdown",
   "id": "060de198",
   "metadata": {},
   "source": [
    "### Função que faz o treinamento e retorna uma tupla com os pesos e o bias"
   ]
  },
  {
   "cell_type": "code",
   "execution_count": 2,
   "id": "9ddab3fc",
   "metadata": {},
   "outputs": [],
   "source": [
    "import random\n",
    "\n",
    "def perceptron(target):\n",
    "    \n",
    "  # Define a taixa de aprendizado (alpha) e a quantidade maxima de treinamentos (max_iterations)\n",
    "  alpha = 0.05\n",
    "  max_iterations = 100\n",
    "\n",
    "  # Inicializa uma lista de pesos e o bias com valores randomicos entre -0.5 and 0.5\n",
    "  w = [random.uniform(-0.5, 0.5) for _ in range(2)]\n",
    "  b = random.uniform(-0.5, 0.5)\n",
    "\n",
    "  # Loop de treinamentos\n",
    "  for epoch in range(max_iterations):\n",
    "    num_correct = 0\n",
    "    for i in range(4):\n",
    "      # Calcula a saida líquida\n",
    "      y_in = w[0] * x1[i] + w[1] * x2[i] + b\n",
    "\n",
    "      # Aplica a função de ativação na saída líquida\n",
    "      y = 1 if y_in >= 0 else -1\n",
    "\n",
    "      #Atualiza os pesos e o bias de acordo com a regra de aprendizado\n",
    "      w[0] += alpha * (target[i] - y) * x1[i]\n",
    "      w[1] += alpha * (target[i] - y) * x2[i]\n",
    "      b += alpha * (target[i] - y)\n",
    "\n",
    "      # Mapeia a quantidade de acertos a cada ciclo\n",
    "      if y == target[i]:\n",
    "        num_correct += 1\n",
    "\n",
    "    # Para o treinamento se acertar todas as previsões\n",
    "    if num_correct == 4:\n",
    "      print(f\"Treinamento convergiu na época: {epoch+1}\")\n",
    "      break\n",
    "    if(epoch == max_iterations -1):\n",
    "      print(f\"Treinamento NÃO convergiu :/ \")\n",
    "\n",
    "  return w, b"
   ]
  },
  {
   "cell_type": "markdown",
   "id": "22527692",
   "metadata": {},
   "source": [
    "### Função que compara o treinamento com a saída esperada"
   ]
  },
  {
   "cell_type": "code",
   "execution_count": 3,
   "id": "83567789",
   "metadata": {},
   "outputs": [],
   "source": [
    "def showOutputWithTrainedData(weights, target):\n",
    "    for i in range(4):\n",
    "        y_in = weights[0] * x1[i] + weights[1] * x2[i] + bias\n",
    "        y = 1 if y_in >= 0 else -1\n",
    "        print(f\"x1: {x1[i]}, x2: {x2[i]} -> y: {y}   -> target: {target[i]}\")"
   ]
  },
  {
   "cell_type": "markdown",
   "id": "275bb71a",
   "metadata": {},
   "source": [
    "# Porta lógica AND -> convergiu"
   ]
  },
  {
   "cell_type": "code",
   "execution_count": 11,
   "id": "2348a889",
   "metadata": {},
   "outputs": [
    {
     "name": "stdout",
     "output_type": "stream",
     "text": [
      "Treinamento convergiu na época: 5\n",
      "Pesos finais: [0.297037496117848, 0.12964825250191778]\n",
      "bias: -0.3677976624986895\n",
      "x1: 0, x2: 0 -> y: -1   -> target: -1\n",
      "x1: 0, x2: 1 -> y: -1   -> target: -1\n",
      "x1: 1, x2: 0 -> y: -1   -> target: -1\n",
      "x1: 1, x2: 1 -> y: 1   -> target: 1\n"
     ]
    }
   ],
   "source": [
    "targets_AND = [-1, -1, -1 , 1]\n",
    "weights, bias = perceptron(targets_AND)\n",
    "print(f\"Pesos finais: {weights}\")\n",
    "print(f\"bias: {bias}\")\n",
    "showOutputWithTrainedData(weights, targets_AND)\n"
   ]
  },
  {
   "cell_type": "markdown",
   "id": "434725d2",
   "metadata": {},
   "source": [
    "# Porta lógica NAND -> convergiu"
   ]
  },
  {
   "cell_type": "code",
   "execution_count": 5,
   "id": "a0fed193",
   "metadata": {},
   "outputs": [
    {
     "name": "stdout",
     "output_type": "stream",
     "text": [
      "Treinamento convergiu na época: 3\n",
      "Pesos finais: [-0.18729165039419418, -0.20665819995249254]\n",
      "bias: 0.36020703670075893\n",
      "x1: 0, x2: 0 -> y: 1   -> target: 1\n",
      "x1: 0, x2: 1 -> y: 1   -> target: 1\n",
      "x1: 1, x2: 0 -> y: 1   -> target: 1\n",
      "x1: 1, x2: 1 -> y: -1   -> target: -1\n"
     ]
    }
   ],
   "source": [
    "targets_NAND = [1, 1, 1, -1]\n",
    "weights, bias = perceptron(targets_NAND)\n",
    "print(f\"Pesos finais: {weights}\")\n",
    "print(f\"bias: {bias}\")\n",
    "showOutputWithTrainedData(weights, targets_NAND)"
   ]
  },
  {
   "cell_type": "markdown",
   "id": "b0751f27",
   "metadata": {},
   "source": [
    "# Porta lógica OR -> convergiu"
   ]
  },
  {
   "cell_type": "code",
   "execution_count": 6,
   "id": "9d6d86ac",
   "metadata": {},
   "outputs": [
    {
     "name": "stdout",
     "output_type": "stream",
     "text": [
      "Treinamento convergiu na época: 5\n",
      "Pesos finais: [0.34696255114915475, 0.15526632325034403]\n",
      "bias: -0.09001669514735261\n",
      "x1: 0, x2: 0 -> y: -1   -> target: -1\n",
      "x1: 0, x2: 1 -> y: 1   -> target: 1\n",
      "x1: 1, x2: 0 -> y: 1   -> target: 1\n",
      "x1: 1, x2: 1 -> y: 1   -> target: 1\n"
     ]
    }
   ],
   "source": [
    "targets_OR = [-1, 1, 1, 1]\n",
    "weights, bias = perceptron(targets_OR)\n",
    "print(f\"Pesos finais: {weights}\")\n",
    "print(f\"bias: {bias}\")\n",
    "showOutputWithTrainedData(weights, targets_OR)"
   ]
  },
  {
   "cell_type": "markdown",
   "id": "019725f0",
   "metadata": {},
   "source": [
    "# Porta lógica NOR -> convergiu"
   ]
  },
  {
   "cell_type": "code",
   "execution_count": 7,
   "id": "fa76f192",
   "metadata": {},
   "outputs": [
    {
     "name": "stdout",
     "output_type": "stream",
     "text": [
      "Treinamento convergiu na época: 4\n",
      "Pesos finais: [-0.10441871434887176, -0.041072011783043205]\n",
      "bias: 0.006166015798999613\n",
      "x1: 0, x2: 0 -> y: 1   -> target: 1\n",
      "x1: 0, x2: 1 -> y: -1   -> target: -1\n",
      "x1: 1, x2: 0 -> y: -1   -> target: -1\n",
      "x1: 1, x2: 1 -> y: -1   -> target: -1\n"
     ]
    }
   ],
   "source": [
    "targets_NOR = [1, -1, -1, -1]\n",
    "weights, bias = perceptron(targets_NOR)\n",
    "print(f\"Pesos finais: {weights}\")\n",
    "print(f\"bias: {bias}\")\n",
    "showOutputWithTrainedData(weights, targets_NOR)"
   ]
  },
  {
   "cell_type": "markdown",
   "id": "e07a97f4",
   "metadata": {},
   "source": [
    "# Porta lógica XOR -> NÃO convergiu"
   ]
  },
  {
   "cell_type": "code",
   "execution_count": 12,
   "id": "2ca3775c",
   "metadata": {},
   "outputs": [
    {
     "name": "stdout",
     "output_type": "stream",
     "text": [
      "Treinamento NÃO convergiu :/ \n",
      "Pesos finais: [-0.13121788799282857, -0.03776961249641342]\n",
      "bias: 0.041702894136267654\n",
      "x1: 0, x2: 0 -> y: 1   -> target: -1\n",
      "x1: 0, x2: 1 -> y: 1   -> target: 1\n",
      "x1: 1, x2: 0 -> y: -1   -> target: 1\n",
      "x1: 1, x2: 1 -> y: -1   -> target: -1\n"
     ]
    }
   ],
   "source": [
    "targets_XOR = [-1, 1, 1, -1]\n",
    "weights, bias = perceptron(targets_XOR)\n",
    "print(f\"Pesos finais: {weights}\")\n",
    "print(f\"bias: {bias}\")\n",
    "showOutputWithTrainedData(weights, targets_XOR)"
   ]
  }
 ],
 "metadata": {
  "kernelspec": {
   "display_name": "Python 3",
   "language": "python",
   "name": "python3"
  },
  "language_info": {
   "codemirror_mode": {
    "name": "ipython",
    "version": 3
   },
   "file_extension": ".py",
   "mimetype": "text/x-python",
   "name": "python",
   "nbconvert_exporter": "python",
   "pygments_lexer": "ipython3",
   "version": "3.8.8"
  }
 },
 "nbformat": 4,
 "nbformat_minor": 5
}
